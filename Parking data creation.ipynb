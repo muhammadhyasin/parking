{
 "cells": [
  {
   "cell_type": "code",
   "execution_count": 1,
   "metadata": {},
   "outputs": [],
   "source": [
    "import csv\n",
    "import random\n",
    "from datetime import datetime, timedelta\n",
    "\n",
    "# Function to generate random date and zone\n",
    "def generate_data():\n",
    "    start_date = datetime(2021, 1, 1)\n",
    "    end_date = datetime(2023, 12, 31)\n",
    "    date_generated = [start_date + timedelta(days=x) for x in range((end_date - start_date).days + 1)]\n",
    "    zones = ['Zone 1', 'Zone 2', 'Zone 3', 'Zone 4']\n",
    "    data = []\n",
    "    for date in date_generated:\n",
    "        # Generate 2 entries per day at random times and random zones\n",
    "        for _ in range(2):\n",
    "            random_time = date.replace(hour=random.randint(0, 23), minute=random.randint(0, 59))\n",
    "            random_zone = random.choice(zones)\n",
    "            data.append((random_time.strftime(\"%d/%m/%Y %H:%M\"), random_zone))\n",
    "    return data\n",
    "\n",
    "# Function to write data to CSV file\n",
    "def write_to_csv(data):\n",
    "    with open('parking_data.csv', mode='w', newline='') as file:\n",
    "        writer = csv.writer(file)\n",
    "        writer.writerow(['Date', 'Zone'])\n",
    "        for entry in data:\n",
    "            writer.writerow(entry)\n",
    "\n",
    "# Generate data and write to CSV file\n",
    "data = generate_data()\n",
    "write_to_csv(data)"
   ]
  },
  {
   "cell_type": "code",
   "execution_count": null,
   "metadata": {},
   "outputs": [],
   "source": []
  }
 ],
 "metadata": {
  "kernelspec": {
   "display_name": "Python 3",
   "language": "python",
   "name": "python3"
  },
  "language_info": {
   "codemirror_mode": {
    "name": "ipython",
    "version": 3
   },
   "file_extension": ".py",
   "mimetype": "text/x-python",
   "name": "python",
   "nbconvert_exporter": "python",
   "pygments_lexer": "ipython3",
   "version": "3.6.5"
  }
 },
 "nbformat": 4,
 "nbformat_minor": 2
}
