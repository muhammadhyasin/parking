{
 "cells": [
  {
   "cell_type": "markdown",
   "metadata": {},
   "source": [
    "# Section 1: Import Libraries"
   ]
  },
  {
   "cell_type": "code",
   "execution_count": 11,
   "metadata": {},
   "outputs": [],
   "source": [
    "import numpy as np\n",
    "import pandas as pd\n",
    "from datetime import datetime, timedelta"
   ]
  },
  {
   "cell_type": "markdown",
   "metadata": {},
   "source": [
    "In this section, we import the necessary libraries for data manipulation and date handling.\n",
    "\n",
    "-numpy and pandas are used for data manipulation and analysis.\n",
    "-datetime and timedelta are used to handle dates and time differences."
   ]
  },
  {
   "cell_type": "markdown",
   "metadata": {},
   "source": [
    "# Section 2: Define Functions for Data Generation"
   ]
  },
  {
   "cell_type": "code",
   "execution_count": 12,
   "metadata": {},
   "outputs": [],
   "source": [
    "def generate_weather(num_records):\n",
    "    weather_conditions = ['windy', 'cloudy', 'sunny', 'rainy']\n",
    "    return np.random.choice(weather_conditions, num_records)\n",
    "\n",
    "def generate_availability(date):\n",
    "    if date.weekday() >= 5:\n",
    "        return np.random.uniform(0.2, 0.4)\n",
    "    elif date.month == 1 and date.day == 1:\n",
    "        return np.random.uniform(0.2, 0.4)\n",
    "    elif date.month == 4 and date.day == 14:\n",
    "        return np.random.uniform(0.2, 0.4)\n",
    "    elif date.month == 8 and date.day == 15:\n",
    "        return np.random.uniform(0.2, 0.4)\n",
    "    else:\n",
    "        return np.random.uniform(0.6, 0.9)\n"
   ]
  },
  {
   "cell_type": "markdown",
   "metadata": {},
   "source": [
    "This section defines two functions:\n",
    "\n",
    "-generate_weather(num_records): This function generates random weather conditions for the given number of records.\n",
    "-generate_availability(date): This function generates parking lot availability rates based on specified conditions, such as weekdays and special occasions."
   ]
  },
  {
   "cell_type": "markdown",
   "metadata": {},
   "source": [
    "# Section 3: Generate Dates and Data"
   ]
  },
  {
   "cell_type": "code",
   "execution_count": 13,
   "metadata": {},
   "outputs": [],
   "source": [
    "start_date = datetime(2021, 1, 1)\n",
    "end_date = datetime(2024, 12, 31)\n",
    "num_records = (end_date - start_date).days + 1\n",
    "dates = [start_date + timedelta(days=i) for i in range(num_records)]\n",
    "\n",
    "weather = generate_weather(num_records)\n",
    "availability = [generate_availability(date) for date in dates]"
   ]
  },
  {
   "cell_type": "markdown",
   "metadata": {},
   "source": [
    "In this section, we define the start and end dates for the dataset and calculate the number of records. We then generate a list of dates spanning from the start date to the end date. Weather conditions and parking lot availability rates are generated based on these dates using the functions defined earlier."
   ]
  },
  {
   "cell_type": "markdown",
   "metadata": {},
   "source": [
    "# Section 4: Create DataFrame"
   ]
  },
  {
   "cell_type": "code",
   "execution_count": 14,
   "metadata": {},
   "outputs": [],
   "source": [
    "data = pd.DataFrame({\n",
    "    'Date': dates,\n",
    "    'Weather': weather,\n",
    "    'Parking Availability Rate': availability\n",
    "})\n"
   ]
  },
  {
   "cell_type": "markdown",
   "metadata": {},
   "source": [
    "Here, we create a DataFrame data using pandas, where each column corresponds to a feature of the dataset: Date, Weather, and Parking Availability Rate. The data generated in the previous section is used to populate this DataFrame."
   ]
  },
  {
   "cell_type": "markdown",
   "metadata": {},
   "source": [
    "# Section 5: Save Data to CSV"
   ]
  },
  {
   "cell_type": "code",
   "execution_count": 15,
   "metadata": {},
   "outputs": [],
   "source": [
    "data.to_csv('parking_dataset.csv', index=False)"
   ]
  },
  {
   "cell_type": "markdown",
   "metadata": {},
   "source": [
    "Finally, we save the DataFrame data to a CSV file named 'parking_dataset.csv'. The index=True parameter ensures that the index column is included in the CSV file."
   ]
  },
  {
   "cell_type": "code",
   "execution_count": null,
   "metadata": {},
   "outputs": [],
   "source": []
  }
 ],
 "metadata": {
  "kernelspec": {
   "display_name": "Python 3",
   "language": "python",
   "name": "python3"
  },
  "language_info": {
   "codemirror_mode": {
    "name": "ipython",
    "version": 3
   },
   "file_extension": ".py",
   "mimetype": "text/x-python",
   "name": "python",
   "nbconvert_exporter": "python",
   "pygments_lexer": "ipython3",
   "version": "3.6.5"
  }
 },
 "nbformat": 4,
 "nbformat_minor": 2
}
